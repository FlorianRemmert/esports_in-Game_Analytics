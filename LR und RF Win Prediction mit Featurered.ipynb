{
 "cells": [
  {
   "cell_type": "code",
   "execution_count": 1,
   "id": "f1e14276",
   "metadata": {},
   "outputs": [],
   "source": [
    "import pandas as pd\n",
    "from sklearn.model_selection import train_test_split\n",
    "from sklearn.linear_model import LinearRegression\n",
    "from sklearn.metrics import accuracy_score\n",
    "import matplotlib.pyplot as plt\n",
    "import numpy as np"
   ]
  },
  {
   "cell_type": "code",
   "execution_count": 2,
   "id": "20c715de",
   "metadata": {},
   "outputs": [
    {
     "name": "stderr",
     "output_type": "stream",
     "text": [
      "C:\\Users\\Florian\\AppData\\Local\\Temp\\ipykernel_7928\\668810773.py:1: DtypeWarning: Columns (6) have mixed types. Specify dtype option on import or set low_memory=False.\n",
      "  df = pd.read_csv(\"Datensatz.csv\")\n"
     ]
    }
   ],
   "source": [
    "df = pd.read_csv(\"Datensatz.csv\")"
   ]
  },
  {
   "cell_type": "code",
   "execution_count": 3,
   "id": "cba629ed",
   "metadata": {},
   "outputs": [],
   "source": [
    "df.drop(columns=[\"Unnamed: 0\"], inplace=True)"
   ]
  },
  {
   "cell_type": "code",
   "execution_count": 4,
   "id": "7c4692b7",
   "metadata": {},
   "outputs": [],
   "source": [
    "Y = df[[\"winningTeam\", 'minute']]\n",
    "X = df[['minute',\n",
    "       'player1_xp', 'player1_totalGold', 'player1_totalDamageDoneToChampions',\n",
    "       'player1_totalDamageTaken', 'player1_level', 'player1_currentGold',\n",
    "       'player1_minionsKilled', 'player1_jungleMinionsKilled', 'player2_xp',\n",
    "       'player2_totalGold', 'player2_totalDamageDoneToChampions',\n",
    "       'player2_totalDamageTaken', 'player2_level', 'player2_currentGold',\n",
    "       'player2_minionsKilled', 'player2_jungleMinionsKilled', 'player3_xp',\n",
    "       'player3_totalGold', 'player3_totalDamageDoneToChampions',\n",
    "       'player3_totalDamageTaken', 'player3_level', 'player3_currentGold',\n",
    "       'player3_minionsKilled', 'player3_jungleMinionsKilled', 'player4_xp',\n",
    "       'player4_totalGold', 'player4_totalDamageDoneToChampions',\n",
    "       'player4_totalDamageTaken', 'player4_level', 'player4_currentGold',\n",
    "       'player4_minionsKilled', 'player4_jungleMinionsKilled', 'player5_xp',\n",
    "       'player5_totalGold', 'player5_totalDamageDoneToChampions',\n",
    "       'player5_totalDamageTaken', 'player5_level', 'player5_currentGold',\n",
    "       'player5_minionsKilled', 'player5_jungleMinionsKilled', 'player6_xp',\n",
    "       'player6_totalGold', 'player6_totalDamageDoneToChampions',\n",
    "       'player6_totalDamageTaken', 'player6_level', 'player6_currentGold',\n",
    "       'player6_minionsKilled', 'player6_jungleMinionsKilled', 'player7_xp',\n",
    "       'player7_totalGold', 'player7_totalDamageDoneToChampions',\n",
    "       'player7_totalDamageTaken', 'player7_level', 'player7_currentGold',\n",
    "       'player7_minionsKilled', 'player7_jungleMinionsKilled', 'player8_xp',\n",
    "       'player8_totalGold', 'player8_totalDamageDoneToChampions',\n",
    "       'player8_totalDamageTaken', 'player8_level', 'player8_currentGold',\n",
    "       'player8_minionsKilled', 'player8_jungleMinionsKilled', 'player9_xp',\n",
    "       'player9_totalGold', 'player9_totalDamageDoneToChampions',\n",
    "       'player9_totalDamageTaken', 'player9_level', 'player9_currentGold',\n",
    "       'player9_minionsKilled', 'player9_jungleMinionsKilled', 'player10_xp',\n",
    "       'player10_totalGold', 'player10_totalDamageDoneToChampions',\n",
    "       'player10_totalDamageTaken', 'player10_level', 'player10_currentGold',\n",
    "       'player10_minionsKilled', 'player10_jungleMinionsKilled']]"
   ]
  },
  {
   "cell_type": "code",
   "execution_count": 5,
   "id": "4e66fdec",
   "metadata": {},
   "outputs": [],
   "source": [
    "x_train, x_test, y_train, y_test= train_test_split(X, Y, test_size= 0.3, random_state=42, shuffle=True) "
   ]
  },
  {
   "cell_type": "markdown",
   "id": "0c70d0fd",
   "metadata": {},
   "source": [
    "Das Testdatenset wird aufgeteilt, um zu sehen wie die Vorhersage je nach Spieldauer ist."
   ]
  },
  {
   "cell_type": "code",
   "execution_count": 6,
   "id": "67ee363a",
   "metadata": {},
   "outputs": [],
   "source": [
    "y_train.drop(columns=\"minute\", inplace=True)"
   ]
  },
  {
   "cell_type": "markdown",
   "id": "2c76341b",
   "metadata": {},
   "source": [
    "## Lineare Regression"
   ]
  },
  {
   "cell_type": "code",
   "execution_count": 7,
   "id": "8eabeccf",
   "metadata": {},
   "outputs": [
    {
     "name": "stdout",
     "output_type": "stream",
     "text": [
      "Model accuracy score with Linear-Regression : 0.7141\n"
     ]
    }
   ],
   "source": [
    "#x_test_wo_minute = x_test.drop[\"minute\"]\n",
    "regressor = LinearRegression()  \n",
    "regressor.fit(x_train, y_train[\"winningTeam\"])\n",
    "y_pred = regressor.predict(x_test)\n",
    "\n",
    "print('Model accuracy score with Linear-Regression : {0:0.4f}'. format(accuracy_score(y_test[\"winningTeam\"], y_pred.round())))"
   ]
  },
  {
   "cell_type": "code",
   "execution_count": 8,
   "id": "0843f591",
   "metadata": {},
   "outputs": [],
   "source": [
    "x_test_0_4 = x_test.loc[x_test[\"minute\"] < 5]\n",
    "x_test_5_9 = x_test.loc[(x_test[\"minute\"] >= 5) & (x_test[\"minute\"] < 10)]\n",
    "x_test_10_14 = x_test.loc[(x_test[\"minute\"] >= 10) & (x_test[\"minute\"] < 15)]\n",
    "x_test_15_19 = x_test.loc[(x_test[\"minute\"] >= 15) & (x_test[\"minute\"] < 20)]\n",
    "x_test_20_24 = x_test.loc[(x_test[\"minute\"] >= 20) & (x_test[\"minute\"] < 25)]\n",
    "x_test_25_29 = x_test.loc[(x_test[\"minute\"] >= 25) & (x_test[\"minute\"] < 30)]\n",
    "x_test_30_34 = x_test.loc[x_test[\"minute\"] >= 30]\n",
    "\n",
    "#get only winning team for specific time intervalls\n",
    "y_test_0_4 = y_test.loc[y_test[\"minute\"] < 5][\"winningTeam\"]\n",
    "y_test_5_9 = y_test.loc[(y_test[\"minute\"] >= 5) & (y_test[\"minute\"] < 10)][\"winningTeam\"]\n",
    "y_test_10_14 = y_test.loc[(y_test[\"minute\"] >= 10) & (y_test[\"minute\"] < 15)][\"winningTeam\"]\n",
    "y_test_15_19 = y_test.loc[(y_test[\"minute\"] >= 15) & (y_test[\"minute\"] < 20)][\"winningTeam\"]\n",
    "y_test_20_24 = y_test.loc[(y_test[\"minute\"] >= 20) & (y_test[\"minute\"] < 25)][\"winningTeam\"]\n",
    "y_test_25_29 = y_test.loc[(y_test[\"minute\"] >= 25) & (y_test[\"minute\"] < 30)][\"winningTeam\"]\n",
    "y_test_30_34 = y_test.loc[y_test[\"minute\"] >= 30][\"winningTeam\"]"
   ]
  },
  {
   "cell_type": "code",
   "execution_count": 9,
   "id": "86fb14e8",
   "metadata": {},
   "outputs": [],
   "source": [
    "#create array with results\n",
    "results_lr = np.empty(7)\n",
    "\n",
    "y_pred_4 = regressor.predict(x_test_0_4)\n",
    "results_lr[0] = accuracy_score(y_test_0_4, y_pred_4.round())\n",
    "y_pred_9 = regressor.predict(x_test_5_9)\n",
    "results_lr[1] = accuracy_score(y_test_5_9, y_pred_9.round())                            \n",
    "y_pred_14 = regressor.predict(x_test_10_14)\n",
    "results_lr[2] = accuracy_score(y_test_10_14, y_pred_14.round())\n",
    "y_pred_19 = regressor.predict(x_test_15_19)\n",
    "results_lr[3] = accuracy_score(y_test_15_19, y_pred_19.round())\n",
    "y_pred_24 = regressor.predict(x_test_20_24)\n",
    "results_lr[4] = accuracy_score(y_test_20_24, y_pred_24.round())\n",
    "y_pred_29 = regressor.predict(x_test_25_29)\n",
    "results_lr[5] = accuracy_score(y_test_25_29, y_pred_29.round())\n",
    "y_pred_30_and_more = regressor.predict(x_test_30_34)\n",
    "results_lr[6] = accuracy_score(y_test_30_34, y_pred_30_and_more.round())\n",
    "\n",
    "\n",
    "#create df with results\n",
    "#x_ticks = ['0-4', '5-9', '10-14', '15-19', '20-24', '25-29', '30+']\n",
    "\n",
    "df_lr_results = pd.DataFrame(results_lr)\n",
    "df_lr_results[\"x_ticks\"] = ['0-4', '5-9', '10-14', '15-19', '20-24', '25-29', '30+']"
   ]
  },
  {
   "cell_type": "code",
   "execution_count": 10,
   "id": "f5e19710",
   "metadata": {},
   "outputs": [
    {
     "data": {
      "image/png": "[encoded data removed]",
      "text/plain": [
       "<Figure size 640x440 with 1 Axes>"
      ]
     },
     "metadata": {},
     "output_type": "display_data"
    }
   ],
   "source": [
    "overall_result = accuracy_score(y_test[\"winningTeam\"], y_pred.round())\n",
    "\n",
    "plt.style.use('_mpl-gallery')\n",
    "plt.style.use('seaborn-v0_8-paper')\n",
    "ax = df_lr_results.plot(kind='bar', title='Linear Regression Game Duration Result Plot ', xlabel=\"Spielintervalle in Minuten\", ylabel=\"Accuracy\", legend=False)\n",
    "ax.set_xticklabels(df_lr_results.x_ticks)\n",
    "ax.axhline(overall_result, color=\"black\", linestyle=\"--\")\n",
    "ax.bar_label(ax.containers[0])\n",
    "for text in ax.texts:\n",
    "    t = float(text.get_text())                 \n",
    "    text.set_text(round(t, 3))\n"
   ]
  },
  {
   "cell_type": "markdown",
   "id": "3d62a7e8",
   "metadata": {},
   "source": [
    "## Random Forrest"
   ]
  },
  {
   "cell_type": "code",
   "execution_count": 11,
   "id": "34c72763",
   "metadata": {},
   "outputs": [],
   "source": [
    "from sklearn.ensemble import RandomForestClassifier"
   ]
  },
  {
   "cell_type": "code",
   "execution_count": 12,
   "id": "25dc29f8",
   "metadata": {},
   "outputs": [],
   "source": [
    "rfc = RandomForestClassifier(random_state=42)\n",
    "rfc.fit(x_train, y_train[\"winningTeam\"])\n",
    "y_pred = rfc.predict(x_test)"
   ]
  },
  {
   "cell_type": "code",
   "execution_count": 13,
   "id": "a933d87c",
   "metadata": {},
   "outputs": [
    {
     "name": "stdout",
     "output_type": "stream",
     "text": [
      "Model accuracy score with Random-Forest-Classifier : 0.7569\n"
     ]
    }
   ],
   "source": [
    "print('Model accuracy score with Random-Forest-Classifier : {0:0.4f}'. format(accuracy_score(y_test[\"winningTeam\"], y_pred)))"
   ]
  },
  {
   "cell_type": "code",
   "execution_count": 14,
   "id": "dace1584",
   "metadata": {},
   "outputs": [],
   "source": [
    "#create array with results\n",
    "results = np.empty(7)\n",
    "\n",
    "y_pred_4 = rfc.predict(x_test_0_4)\n",
    "results[0] = accuracy_score(y_test_0_4, y_pred_4.round())\n",
    "y_pred_9 = rfc.predict(x_test_5_9)\n",
    "results[1] = accuracy_score(y_test_5_9, y_pred_9.round())                            \n",
    "y_pred_14 = rfc.predict(x_test_10_14)\n",
    "results[2] = accuracy_score(y_test_10_14, y_pred_14.round())\n",
    "y_pred_19 = rfc.predict(x_test_15_19)\n",
    "results[3] = accuracy_score(y_test_15_19, y_pred_19.round())\n",
    "y_pred_24 = rfc.predict(x_test_20_24)\n",
    "results[4] = accuracy_score(y_test_20_24, y_pred_24.round())\n",
    "y_pred_29 = rfc.predict(x_test_25_29)\n",
    "results[5] = accuracy_score(y_test_25_29, y_pred_29.round())\n",
    "y_pred_30_and_more = rfc.predict(x_test_30_34)\n",
    "results[6] = accuracy_score(y_test_30_34, y_pred_30_and_more.round())\n",
    "\n",
    "\n",
    "#create df with results\n",
    "#x_ticks = ['0-4', '5-9', '10-14', '15-19', '20-24', '25-29', '30+']\n",
    "\n",
    "df_lr_results = pd.DataFrame(results)\n",
    "df_lr_results[\"x_ticks\"] = ['0-4', '5-9', '10-14', '15-19', '20-24', '25-29', '30+']"
   ]
  },
  {
   "cell_type": "code",
   "execution_count": 15,
   "id": "2e88dcef",
   "metadata": {},
   "outputs": [
    {
     "data": {
      "image/png": "[encoded data removed]",
      "text/plain": [
       "<Figure size 640x440 with 1 Axes>"
      ]
     },
     "metadata": {},
     "output_type": "display_data"
    }
   ],
   "source": [
    "overall_result = accuracy_score(y_test[\"winningTeam\"], y_pred.round())\n",
    "\n",
    "plt.style.use('_mpl-gallery')\n",
    "plt.style.use('seaborn-v0_8-paper')\n",
    "ax = df_lr_results.plot(kind='bar', title='Random_Forrest Game Duration Result Plot ', xlabel=\"Spielintervalle in Minuten\", ylabel=\"Accuracy\", legend=False)\n",
    "ax.set_xticklabels(df_lr_results.x_ticks)\n",
    "#ax.set_yticklabels(np.arange(0, 1, step=0.1))\n",
    "ax.axhline(overall_result, color=\"black\", linestyle=\"--\")\n",
    "ax.bar_label(ax.containers[0])\n",
    "\n",
    "for text in ax.texts:\n",
    "    t = float(text.get_text())                 \n",
    "    text.set_text(round(t, 3))"
   ]
  },
  {
   "cell_type": "code",
   "execution_count": null,
   "id": "6bdc5cc1",
   "metadata": {},
   "outputs": [],
   "source": []
  },
  {
   "cell_type": "code",
   "execution_count": null,
   "id": "5a82f9d0",
   "metadata": {},
   "outputs": [],
   "source": []
  }
 ],
 "metadata": {
  "kernelspec": {
   "display_name": "Python 3 (ipykernel)",
   "language": "python",
   "name": "python3"
  },
  "language_info": {
   "codemirror_mode": {
    "name": "ipython",
    "version": 3
   },
   "file_extension": ".py",
   "mimetype": "text/x-python",
   "name": "python",
   "nbconvert_exporter": "python",
   "pygments_lexer": "ipython3",
   "version": "3.9.7"
  }
 },
 "nbformat": 4,
 "nbformat_minor": 5
}
